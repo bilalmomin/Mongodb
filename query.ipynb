{
 "cells": [
  {
   "cell_type": "code",
   "execution_count": 1,
   "metadata": {},
   "outputs": [],
   "source": [
    "import pymongo"
   ]
  },
  {
   "cell_type": "code",
   "execution_count": 28,
   "metadata": {},
   "outputs": [],
   "source": [
    "client = pymongo.MongoClient('mongodb://127.0.0.1:27017/')\n",
    "\n",
    "mydb = client['Employee']\n",
    "\n",
    "empinfo = mydb.employeeinfo"
   ]
  },
  {
   "cell_type": "code",
   "execution_count": 29,
   "metadata": {},
   "outputs": [
    {
     "data": {
      "text/plain": [
       "ObjectId('5f6c9658451c4e24f0d95a59')"
      ]
     },
     "execution_count": 29,
     "metadata": {},
     "output_type": "execute_result"
    }
   ],
   "source": [
    "record = {\n",
    "    'firstname':'bilal',\n",
    "    'lastname':'momin',\n",
    "    'department':'data science'\n",
    "}\n",
    "\n",
    "empinfo.insert(record)"
   ]
  },
  {
   "cell_type": "code",
   "execution_count": 5,
   "metadata": {},
   "outputs": [
    {
     "data": {
      "text/plain": [
       "[ObjectId('5f6b470c451c4e24f0d95a51'),\n",
       " ObjectId('5f6b470c451c4e24f0d95a52'),\n",
       " ObjectId('5f6b470c451c4e24f0d95a53')]"
      ]
     },
     "execution_count": 5,
     "metadata": {},
     "output_type": "execute_result"
    }
   ],
   "source": [
    "records = [\n",
    "    {\n",
    "        'firstname':'bilal',\n",
    "        'lastname':'momin',\n",
    "        'department':'data science',\n",
    "        'qualification':'BE',\n",
    "        'age':22\n",
    "    },\n",
    "    {\n",
    "        'firstname':'Tim',\n",
    "        'lastname':'Tech',\n",
    "        'department':'data analysis',\n",
    "        'qualification':'ME',\n",
    "        'age':31\n",
    "    },\n",
    "    {\n",
    "        'firstname':'krish',\n",
    "        'lastname':'verma',\n",
    "        'department':'development',\n",
    "        'qualification':'B.Tech',\n",
    "        'age':35\n",
    "    }\n",
    "]\n",
    "\n",
    "empinfo.insert(records)"
   ]
  },
  {
   "cell_type": "code",
   "execution_count": 11,
   "metadata": {},
   "outputs": [
    {
     "data": {
      "text/plain": [
       "{'_id': ObjectId('5f6b470c451c4e24f0d95a51'),\n",
       " 'firstname': 'bilal',\n",
       " 'lastname': 'momin',\n",
       " 'department': 'data science',\n",
       " 'qualification': 'BE',\n",
       " 'age': 22}"
      ]
     },
     "execution_count": 11,
     "metadata": {},
     "output_type": "execute_result"
    }
   ],
   "source": [
    "#for first record\n",
    "empinfo.find_one()"
   ]
  },
  {
   "cell_type": "code",
   "execution_count": 16,
   "metadata": {},
   "outputs": [
    {
     "name": "stdout",
     "output_type": "stream",
     "text": [
      "{'_id': ObjectId('5f6b470c451c4e24f0d95a51'), 'firstname': 'bilal', 'lastname': 'momin', 'department': 'data science', 'qualification': 'BE', 'age': 22}\n",
      "{'_id': ObjectId('5f6b470c451c4e24f0d95a52'), 'firstname': 'Tim', 'lastname': 'Tech', 'department': 'data analysis', 'qualification': 'ME', 'age': 31}\n",
      "{'_id': ObjectId('5f6b470c451c4e24f0d95a53'), 'firstname': 'krish', 'lastname': 'verma', 'department': 'development', 'qualification': 'B.Tech', 'age': 35}\n"
     ]
    }
   ],
   "source": [
    "#select * for the employeeinfo\n",
    "for record in empinfo.find({}):\n",
    "    print(record)"
   ]
  },
  {
   "cell_type": "code",
   "execution_count": 19,
   "metadata": {},
   "outputs": [
    {
     "name": "stdout",
     "output_type": "stream",
     "text": [
      "{'_id': ObjectId('5f6b470c451c4e24f0d95a52'), 'firstname': 'Tim', 'lastname': 'Tech', 'department': 'data analysis', 'qualification': 'ME', 'age': 31}\n"
     ]
    }
   ],
   "source": [
    "#query based on conditions\n",
    "# example: select * from empinfo where firstname = tim\n",
    "for record in empinfo.find({'firstname':'Tim'}):\n",
    "    print(record)"
   ]
  },
  {
   "cell_type": "code",
   "execution_count": 20,
   "metadata": {},
   "outputs": [
    {
     "name": "stdout",
     "output_type": "stream",
     "text": [
      "{'_id': ObjectId('5f6b470c451c4e24f0d95a51'), 'firstname': 'bilal', 'lastname': 'momin', 'department': 'data science', 'qualification': 'BE', 'age': 22}\n",
      "{'_id': ObjectId('5f6b470c451c4e24f0d95a53'), 'firstname': 'krish', 'lastname': 'verma', 'department': 'development', 'qualification': 'B.Tech', 'age': 35}\n"
     ]
    }
   ],
   "source": [
    "#querying documents using query operators($in,$Lt,$gt,etc)\n",
    "#$lt = less than\n",
    "#$gt = greater than\n",
    "#---select * from empinfo where qualification is in BE or B.Tech\n",
    "for record in empinfo.find({'qualification':{'$in':['BE','B.Tech']}}):\n",
    "    print(record)"
   ]
  },
  {
   "cell_type": "code",
   "execution_count": 22,
   "metadata": {},
   "outputs": [
    {
     "name": "stdout",
     "output_type": "stream",
     "text": [
      "{'_id': ObjectId('5f6b470c451c4e24f0d95a52'), 'firstname': 'Tim', 'lastname': 'Tech', 'department': 'data analysis', 'qualification': 'ME', 'age': 31}\n"
     ]
    }
   ],
   "source": [
    "#and operator with query operator\n",
    "for record in empinfo.find({'qualification':'ME', 'age':{'$lt':35}}):\n",
    "    print(record)"
   ]
  },
  {
   "cell_type": "code",
   "execution_count": 23,
   "metadata": {},
   "outputs": [
    {
     "name": "stdout",
     "output_type": "stream",
     "text": [
      "{'_id': ObjectId('5f6b470c451c4e24f0d95a51'), 'firstname': 'bilal', 'lastname': 'momin', 'department': 'data science', 'qualification': 'BE', 'age': 22}\n",
      "{'_id': ObjectId('5f6b470c451c4e24f0d95a52'), 'firstname': 'Tim', 'lastname': 'Tech', 'department': 'data analysis', 'qualification': 'ME', 'age': 31}\n"
     ]
    }
   ],
   "source": [
    "#OR operators\n",
    "for record in empinfo.find({'$or':[{'firstname':'bilal'},{'qualification':'ME'}]}):\n",
    "    print(record)"
   ]
  },
  {
   "cell_type": "code",
   "execution_count": 24,
   "metadata": {},
   "outputs": [],
   "source": [
    "inventory = mydb.inventory"
   ]
  },
  {
   "cell_type": "code",
   "execution_count": 26,
   "metadata": {},
   "outputs": [],
   "source": [
    "inventory.insert([\n",
    "   { 'item': \"journal\", 'qty': 25, 'size': { 'h': 14, 'w': 21,'uom': \"cm\" }, 'status': \"A\" },\n",
    "   { 'item': \"notebook\", 'qty': 50,'size': { 'h': 8.5, 'w': 11,'uom': \"in\" },'status': \"A\" },\n",
    "   { 'item': \"paper\", 'qty': 100, 'size': { 'h': 8.5, 'w': 11,'uom': \"in\" },'status': \"D\" },\n",
    "   { 'item': \"planner\", 'qty': 75, 'size': { 'h': 22.85,'w': 30,'uom': \"cm\" },'status': \"D\" },\n",
    "   { 'item': \"postcard\", 'qty': 45, 'size': { 'h': 10, 'w': 15.25,'uom': \"cm\" },'status': \"A\" }\n",
    "]);"
   ]
  },
  {
   "cell_type": "code",
   "execution_count": 27,
   "metadata": {},
   "outputs": [
    {
     "name": "stdout",
     "output_type": "stream",
     "text": [
      "{'_id': ObjectId('5f6c928b451c4e24f0d95a54'), 'item': 'journal', 'qty': 25, 'size': {'h': 14, 'w': 21, 'uom': 'cm'}, 'status': 'A'}\n"
     ]
    }
   ],
   "source": [
    "for record in inventory.find({'size': { 'h': 14, 'w': 21,'uom': \"cm\" }}):\n",
    "    print(record)"
   ]
  },
  {
   "cell_type": "code",
   "execution_count": null,
   "metadata": {},
   "outputs": [],
   "source": []
  },
  {
   "cell_type": "code",
   "execution_count": null,
   "metadata": {},
   "outputs": [],
   "source": []
  },
  {
   "cell_type": "code",
   "execution_count": null,
   "metadata": {},
   "outputs": [],
   "source": []
  }
 ],
 "metadata": {
  "kernelspec": {
   "display_name": "Python 3",
   "language": "python",
   "name": "python3"
  },
  "language_info": {
   "codemirror_mode": {
    "name": "ipython",
    "version": 3
   },
   "file_extension": ".py",
   "mimetype": "text/x-python",
   "name": "python",
   "nbconvert_exporter": "python",
   "pygments_lexer": "ipython3",
   "version": "3.7.3"
  }
 },
 "nbformat": 4,
 "nbformat_minor": 2
}
